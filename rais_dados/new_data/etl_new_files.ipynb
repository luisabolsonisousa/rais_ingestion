{
 "cells": [
  {
   "cell_type": "code",
   "execution_count": 61,
   "metadata": {},
   "outputs": [],
   "source": [
    "import pandas as pd\n",
    "import numpy as np\n",
    "import re\n",
    "from unidecode import unidecode\n",
    "import os\n",
    "import glob"
   ]
  },
  {
   "cell_type": "code",
   "execution_count": 62,
   "metadata": {},
   "outputs": [],
   "source": [
    "pd.set_option('display.max_rows', None)\n",
    "pd.set_option('display.max_columns', None)\n",
    "pd.set_option('display.max_columns', None)"
   ]
  },
  {
   "cell_type": "code",
   "execution_count": 84,
   "metadata": {},
   "outputs": [],
   "source": [
    "\n",
    "\n",
    "\n",
    "def primeiros_tratamentos(df):\n",
    "    ###########primeiros tratamentos\n",
    "    indice_selecoes = df[df['Capital'] == \"{ñ class}\"].index[0]\n",
    "    # Apagar as linhas a partir desse índice até o final\n",
    "    df = df.iloc[:indice_selecoes]\n",
    "    #tratando top row que esta deslocada\n",
    "    df.iloc[0, 1:] = df.iloc[0, :-1].values\n",
    "    #deletando registros que nao tem informações\n",
    "    df = df[df[' Faixa Remun Média (SM)'] != '{ñ class}']\n",
    "    #valores NaN em nulo \n",
    "    df = df.replace(\"NaN\", np.nan)\n",
    "    #preenchendo linhas nan para localidade\n",
    "    df['Capital'] = df['Capital'].ffill()\n",
    "    #deletando oq vem antes do nome da capital\n",
    "    df['Capital'] = df['Capital'].str.split(':').str[1]\n",
    "    #deletar linhas de totais\n",
    "    df = df[df[' Faixa Remun Média (SM)'] != 'Total']\n",
    "    #apagar todas as colunas com total no nome\n",
    "    df = df.drop(df.filter(like='Total').columns, axis=1)\n",
    "    #df.columns =  [re.sub(r\"^\\d+:\", \"\", re.sub(r\"\\.\\d+$\", \"\", coluna)) for coluna in df.columns]\n",
    "    df.columns = [re.sub(r'^\\s*\\d+:', '', re.sub(r'\\.\\d+\\s*$', '', coluna)) for coluna in df.columns]\n",
    "    return df\n",
    "\n",
    "\n",
    "\n",
    "\n",
    "\n",
    "\n"
   ]
  },
  {
   "cell_type": "code",
   "execution_count": 76,
   "metadata": {},
   "outputs": [],
   "source": [
    "#separando masculino\n",
    "def criando_df_masculino(df,ano):\n",
    "    masculino_cols = ['Capital', ' Faixa Remun Média (SM)'] + [coluna for coluna in df.columns if 'Masculino' in coluna]\n",
    "    df_m=df[masculino_cols]\n",
    "    df_m.iloc[0,0]= \"capital\"\n",
    "    df_m.iloc[0,1]= \"faixa_remuneracao_media_sm\"\n",
    "    new_header = df_m.iloc[0]\n",
    "    df_m = df_m[1:]\n",
    "    df_m.columns = new_header \n",
    "    #apagando as colunas duplicadas pq misteriosamente elas duplicam muitas vezes \n",
    "    df_m = df_m.loc[:, ~df_m.columns.duplicated()]\n",
    "    df_m[\"sexo\"] = \"M\"\n",
    "    df_m[\"ano\"] = ano\n",
    "    df_m.columns =[re.sub(r\"^\\d+:\", \"\", coluna) for coluna in df_m.columns]\n",
    "    df_m = df_m.drop(df_m.filter(like='Total').columns, axis=1)\n",
    "    return df_m\n",
    "\n"
   ]
  },
  {
   "cell_type": "code",
   "execution_count": 77,
   "metadata": {},
   "outputs": [],
   "source": [
    "#separando feminino\n",
    "def criando_df_feminino(df,ano):\n",
    "    feminino_cols = ['Capital', ' Faixa Remun Média (SM)'] + [coluna for coluna in df.columns if 'Feminino' in coluna]\n",
    "    df_f=df[feminino_cols]\n",
    "    df_f.iloc[0,0]= \"capital\"\n",
    "    df_f.iloc[0,1]= \"faixa_remuneracao_media_sm\"\n",
    "    new_header = df_f.iloc[0]\n",
    "    df_f = df_f[1:]\n",
    "    df_f.columns = new_header \n",
    "    #apagando as colunas duplicadas pq misteriosamente elas duplicam muitas vezes \n",
    "    df_f = df_f.loc[:, ~df_f.columns.duplicated()]\n",
    "    df_f[\"sexo\"] = \"F\"\n",
    "    df_f[\"ano\"] = ano\n",
    "    df_f.columns =[re.sub(r\"^\\d+:\", \"\", coluna) for coluna in df_f.columns]\n",
    "    df_f = df_f.drop(df_f.filter(like='Total').columns, axis=1)\n",
    "    return df_f\n",
    "\n"
   ]
  },
  {
   "cell_type": "code",
   "execution_count": 78,
   "metadata": {},
   "outputs": [
    {
     "name": "stdout",
     "output_type": "stream",
     "text": [
      "root:/Users/bolsolui/Documents/personal/MECAI/git/rais_dados/new_data/\n",
      "root:/Users/bolsolui/Documents/personal/MECAI/git/rais_dados/new_data/CNAE_grupo\n"
     ]
    },
    {
     "ename": "InvalidIndexError",
     "evalue": "Reindexing only valid with uniquely valued Index objects",
     "output_type": "error",
     "traceback": [
      "\u001b[0;31m---------------------------------------------------------------------------\u001b[0m",
      "\u001b[0;31mInvalidIndexError\u001b[0m                         Traceback (most recent call last)",
      "Cell \u001b[0;32mIn[78], line 23\u001b[0m\n\u001b[1;32m     21\u001b[0m     df_f \u001b[38;5;241m=\u001b[39m criando_df_feminino(df,ano)\n\u001b[1;32m     22\u001b[0m     df_m \u001b[38;5;241m=\u001b[39m criando_df_masculino(df,ano)\n\u001b[0;32m---> 23\u001b[0m     df_final \u001b[38;5;241m=\u001b[39m \u001b[43mpd\u001b[49m\u001b[38;5;241;43m.\u001b[39;49m\u001b[43mconcat\u001b[49m\u001b[43m(\u001b[49m\u001b[43m[\u001b[49m\u001b[43mdf_final\u001b[49m\u001b[43m,\u001b[49m\u001b[43mdf_f\u001b[49m\u001b[43m,\u001b[49m\u001b[43m \u001b[49m\u001b[43mdf_m\u001b[49m\u001b[43m]\u001b[49m\u001b[43m)\u001b[49m\n\u001b[1;32m     24\u001b[0m     \u001b[38;5;28mprint\u001b[39m(\u001b[38;5;124mf\u001b[39m\u001b[38;5;124m\"\u001b[39m\u001b[38;5;124mFile \u001b[39m\u001b[38;5;132;01m{\u001b[39;00mi\u001b[38;5;132;01m}\u001b[39;00m\u001b[38;5;124m, com shape \u001b[39m\u001b[38;5;132;01m{\u001b[39;00mdf\u001b[38;5;241m.\u001b[39mshape\u001b[38;5;132;01m}\u001b[39;00m\u001b[38;5;124m do ano \u001b[39m\u001b[38;5;132;01m{\u001b[39;00mano\u001b[38;5;132;01m}\u001b[39;00m\u001b[38;5;124m, df feminino: \u001b[39m\u001b[38;5;132;01m{\u001b[39;00mdf_f\u001b[38;5;241m.\u001b[39mshape\u001b[38;5;132;01m}\u001b[39;00m\u001b[38;5;124m, df masculino: \u001b[39m\u001b[38;5;132;01m{\u001b[39;00mdf_m\u001b[38;5;241m.\u001b[39mshape\u001b[38;5;132;01m}\u001b[39;00m\u001b[38;5;124m e df final: \u001b[39m\u001b[38;5;132;01m{\u001b[39;00mdf_final\u001b[38;5;241m.\u001b[39mshape\u001b[38;5;132;01m}\u001b[39;00m\u001b[38;5;124m\"\u001b[39m)\n\u001b[1;32m     28\u001b[0m \u001b[38;5;66;03m# Remover acentuação\u001b[39;00m\n",
      "File \u001b[0;32m~/Library/Python/3.11/lib/python/site-packages/pandas/core/reshape/concat.py:298\u001b[0m, in \u001b[0;36mconcat\u001b[0;34m(objs, axis, join, ignore_index, keys, levels, names, verify_integrity, sort, copy)\u001b[0m\n\u001b[1;32m     94\u001b[0m \u001b[38;5;250m\u001b[39m\u001b[38;5;124;03m\"\"\"\u001b[39;00m\n\u001b[1;32m     95\u001b[0m \u001b[38;5;124;03mConcatenate pandas objects along a particular axis with optional set logic\u001b[39;00m\n\u001b[1;32m     96\u001b[0m \u001b[38;5;124;03malong the other axes.\u001b[39;00m\n\u001b[0;32m   (...)\u001b[0m\n\u001b[1;32m    283\u001b[0m \u001b[38;5;124;03mValueError: Indexes have overlapping values: ['a']\u001b[39;00m\n\u001b[1;32m    284\u001b[0m \u001b[38;5;124;03m\"\"\"\u001b[39;00m\n\u001b[1;32m    285\u001b[0m op \u001b[38;5;241m=\u001b[39m _Concatenator(\n\u001b[1;32m    286\u001b[0m     objs,\n\u001b[1;32m    287\u001b[0m     axis\u001b[38;5;241m=\u001b[39maxis,\n\u001b[0;32m   (...)\u001b[0m\n\u001b[1;32m    295\u001b[0m     sort\u001b[38;5;241m=\u001b[39msort,\n\u001b[1;32m    296\u001b[0m )\n\u001b[0;32m--> 298\u001b[0m \u001b[38;5;28;01mreturn\u001b[39;00m \u001b[43mop\u001b[49m\u001b[38;5;241;43m.\u001b[39;49m\u001b[43mget_result\u001b[49m\u001b[43m(\u001b[49m\u001b[43m)\u001b[49m\n",
      "File \u001b[0;32m~/Library/Python/3.11/lib/python/site-packages/pandas/core/reshape/concat.py:516\u001b[0m, in \u001b[0;36m_Concatenator.get_result\u001b[0;34m(self)\u001b[0m\n\u001b[1;32m    514\u001b[0m         obj_labels \u001b[38;5;241m=\u001b[39m obj\u001b[38;5;241m.\u001b[39maxes[\u001b[38;5;241m1\u001b[39m \u001b[38;5;241m-\u001b[39m ax]\n\u001b[1;32m    515\u001b[0m         \u001b[38;5;28;01mif\u001b[39;00m \u001b[38;5;129;01mnot\u001b[39;00m new_labels\u001b[38;5;241m.\u001b[39mequals(obj_labels):\n\u001b[0;32m--> 516\u001b[0m             indexers[ax] \u001b[38;5;241m=\u001b[39m \u001b[43mobj_labels\u001b[49m\u001b[38;5;241;43m.\u001b[39;49m\u001b[43mget_indexer\u001b[49m\u001b[43m(\u001b[49m\u001b[43mnew_labels\u001b[49m\u001b[43m)\u001b[49m\n\u001b[1;32m    518\u001b[0m     mgrs_indexers\u001b[38;5;241m.\u001b[39mappend((obj\u001b[38;5;241m.\u001b[39m_mgr, indexers))\n\u001b[1;32m    520\u001b[0m new_data \u001b[38;5;241m=\u001b[39m concatenate_block_managers(\n\u001b[1;32m    521\u001b[0m     mgrs_indexers, \u001b[38;5;28mself\u001b[39m\u001b[38;5;241m.\u001b[39mnew_axes, concat_axis\u001b[38;5;241m=\u001b[39m\u001b[38;5;28mself\u001b[39m\u001b[38;5;241m.\u001b[39mbm_axis, copy\u001b[38;5;241m=\u001b[39m\u001b[38;5;28mself\u001b[39m\u001b[38;5;241m.\u001b[39mcopy\n\u001b[1;32m    522\u001b[0m )\n",
      "File \u001b[0;32m~/Library/Python/3.11/lib/python/site-packages/pandas/core/indexes/base.py:3171\u001b[0m, in \u001b[0;36mIndex.get_indexer\u001b[0;34m(self, target, method, limit, tolerance)\u001b[0m\n\u001b[1;32m   3166\u001b[0m     \u001b[38;5;28;01mreturn\u001b[39;00m this\u001b[38;5;241m.\u001b[39mget_indexer(\n\u001b[1;32m   3167\u001b[0m         target, method\u001b[38;5;241m=\u001b[39mmethod, limit\u001b[38;5;241m=\u001b[39mlimit, tolerance\u001b[38;5;241m=\u001b[39mtolerance\n\u001b[1;32m   3168\u001b[0m     )\n\u001b[1;32m   3170\u001b[0m \u001b[38;5;28;01mif\u001b[39;00m \u001b[38;5;129;01mnot\u001b[39;00m \u001b[38;5;28mself\u001b[39m\u001b[38;5;241m.\u001b[39mis_unique:\n\u001b[0;32m-> 3171\u001b[0m     \u001b[38;5;28;01mraise\u001b[39;00m InvalidIndexError(\n\u001b[1;32m   3172\u001b[0m         \u001b[38;5;124m\"\u001b[39m\u001b[38;5;124mReindexing only valid with uniquely valued Index objects\u001b[39m\u001b[38;5;124m\"\u001b[39m\n\u001b[1;32m   3173\u001b[0m     )\n\u001b[1;32m   3175\u001b[0m \u001b[38;5;28;01mif\u001b[39;00m method \u001b[38;5;241m==\u001b[39m \u001b[38;5;124m\"\u001b[39m\u001b[38;5;124mpad\u001b[39m\u001b[38;5;124m\"\u001b[39m \u001b[38;5;129;01mor\u001b[39;00m method \u001b[38;5;241m==\u001b[39m \u001b[38;5;124m\"\u001b[39m\u001b[38;5;124mbackfill\u001b[39m\u001b[38;5;124m\"\u001b[39m:\n\u001b[1;32m   3176\u001b[0m     indexer \u001b[38;5;241m=\u001b[39m \u001b[38;5;28mself\u001b[39m\u001b[38;5;241m.\u001b[39m_get_fill_indexer(target, method, limit, tolerance)\n",
      "\u001b[0;31mInvalidIndexError\u001b[0m: Reindexing only valid with uniquely valued Index objects"
     ]
    }
   ],
   "source": [
    "\n",
    "final_file_name=\"\"\n",
    "for root, dirs, files in os.walk(\"/Users/bolsolui/Documents/personal/MECAI/git/rais_dados/new_data/\"):\n",
    "    print(f\"root:{root}\")\n",
    "    path = root\n",
    "    extension = 'csv'\n",
    "    os.chdir(path)\n",
    "    files_csv = glob.glob('*.{}'.format(extension))\n",
    "    \n",
    "    if files_csv:\n",
    "        \n",
    "        for i in files_csv:\n",
    "            resultado = re.search(r'^[^0-9]+', i).group()\n",
    "\n",
    "            # Remove o último caractere se for um sublinhado\n",
    "            final_file_name = resultado.rstrip('_')\n",
    "            \n",
    "            #print(f\"root:{root} e lista: {files_csv} e file : {final_file_name}\")\n",
    "            df = pd.read_csv(i,sep=\";\",  encoding='latin-1',skiprows=1, header=[0])\n",
    "            ano = re.search(r'\\d{4}', i).group()\n",
    "            df = primeiros_tratamentos(df)\n",
    "            df_f = criando_df_feminino(df,ano)\n",
    "            df_m = criando_df_masculino(df,ano)\n",
    "            df_final = pd.concat([df_final,df_f, df_m])\n",
    "            print(f\"File {i}, com shape {df.shape} do ano {ano}, df feminino: {df_f.shape}, df masculino: {df_m.shape} e df final: {df_final.shape}\")\n",
    "\n",
    "\n",
    "        \n",
    "        # Remover acentuação\n",
    "        df_final['faixa_remuneracao_media_sm'] = df_final['faixa_remuneracao_media_sm'].apply(lambda x: unidecode(str(x)))\n",
    "        df_final['capital'] = df_final['capital'].apply(lambda x: unidecode(str(x)))\n",
    "        #tirar espaco \n",
    "        df_final['faixa_remuneracao_media_sm'] = df_final['faixa_remuneracao_media_sm'].str.replace(' ', '_')\n",
    "        df_final['capital'] = df_final['capital'].str.replace('-', '_').str.replace(' ', '_')\n",
    "        # Transformar em minúsculas\n",
    "        df_final['faixa_remuneracao_media_sm'] = df_final['faixa_remuneracao_media_sm'].str.lower()\n",
    "        df_final['capital'] = df_final['capital'].str.lower()\n",
    "        print(f\"ESCREVENDO DF FINAL:   {final_file_name}\")\n",
    "        df_final.to_csv(f'{final_file_name}.csv', index=False)\n",
    "        print(f\"Finalizado:   {final_file_name}\")\n",
    "\n",
    "         "
   ]
  },
  {
   "cell_type": "code",
   "execution_count": 80,
   "metadata": {},
   "outputs": [],
   "source": [
    "df = pd.read_csv(\"/Users/bolsolui/Documents/personal/MECAI/git/rais_dados/new_data/CNAE_grupo/CNAE_grupo_2006.csv\",sep=\";\",  encoding='latin-1',skiprows=1, header=[0])\n",
    "ano = re.search(r'\\d{4}', i).group()\n"
   ]
  },
  {
   "cell_type": "code",
   "execution_count": 87,
   "metadata": {},
   "outputs": [
    {
     "ename": "IndexError",
     "evalue": "index 0 is out of bounds for axis 0 with size 0",
     "output_type": "error",
     "traceback": [
      "\u001b[0;31m---------------------------------------------------------------------------\u001b[0m",
      "\u001b[0;31mIndexError\u001b[0m                                Traceback (most recent call last)",
      "Cell \u001b[0;32mIn[87], line 1\u001b[0m\n\u001b[0;32m----> 1\u001b[0m df \u001b[38;5;241m=\u001b[39m \u001b[43mprimeiros_tratamentos\u001b[49m\u001b[43m(\u001b[49m\u001b[43mdf\u001b[49m\u001b[43m)\u001b[49m\n\u001b[1;32m      2\u001b[0m df\u001b[38;5;241m.\u001b[39mhead()\n",
      "Cell \u001b[0;32mIn[84], line 3\u001b[0m, in \u001b[0;36mprimeiros_tratamentos\u001b[0;34m(df)\u001b[0m\n\u001b[1;32m      1\u001b[0m \u001b[38;5;28;01mdef\u001b[39;00m \u001b[38;5;21mprimeiros_tratamentos\u001b[39m(df):\n\u001b[1;32m      2\u001b[0m     \u001b[38;5;66;03m###########primeiros tratamentos\u001b[39;00m\n\u001b[0;32m----> 3\u001b[0m     indice_selecoes \u001b[38;5;241m=\u001b[39m \u001b[43mdf\u001b[49m\u001b[43m[\u001b[49m\u001b[43mdf\u001b[49m\u001b[43m[\u001b[49m\u001b[38;5;124;43m'\u001b[39;49m\u001b[38;5;124;43mCapital\u001b[39;49m\u001b[38;5;124;43m'\u001b[39;49m\u001b[43m]\u001b[49m\u001b[43m \u001b[49m\u001b[38;5;241;43m==\u001b[39;49m\u001b[43m \u001b[49m\u001b[38;5;124;43m\"\u001b[39;49m\u001b[38;5;124;43m{\u001b[39;49m\u001b[38;5;124;43mñ class}\u001b[39;49m\u001b[38;5;124;43m\"\u001b[39;49m\u001b[43m]\u001b[49m\u001b[38;5;241;43m.\u001b[39;49m\u001b[43mindex\u001b[49m\u001b[43m[\u001b[49m\u001b[38;5;241;43m0\u001b[39;49m\u001b[43m]\u001b[49m\n\u001b[1;32m      4\u001b[0m     \u001b[38;5;66;03m# Apagar as linhas a partir desse índice até o final\u001b[39;00m\n\u001b[1;32m      5\u001b[0m     df \u001b[38;5;241m=\u001b[39m df\u001b[38;5;241m.\u001b[39miloc[:indice_selecoes]\n",
      "File \u001b[0;32m~/Library/Python/3.11/lib/python/site-packages/pandas/core/indexes/base.py:4297\u001b[0m, in \u001b[0;36mIndex.__getitem__\u001b[0;34m(self, key)\u001b[0m\n\u001b[1;32m   4295\u001b[0m \u001b[38;5;28;01mif\u001b[39;00m is_scalar(key):\n\u001b[1;32m   4296\u001b[0m     key \u001b[38;5;241m=\u001b[39m com\u001b[38;5;241m.\u001b[39mcast_scalar_indexer(key, warn_float\u001b[38;5;241m=\u001b[39m\u001b[38;5;28;01mTrue\u001b[39;00m)\n\u001b[0;32m-> 4297\u001b[0m     \u001b[38;5;28;01mreturn\u001b[39;00m \u001b[43mgetitem\u001b[49m\u001b[43m(\u001b[49m\u001b[43mkey\u001b[49m\u001b[43m)\u001b[49m\n\u001b[1;32m   4299\u001b[0m \u001b[38;5;28;01mif\u001b[39;00m \u001b[38;5;28misinstance\u001b[39m(key, \u001b[38;5;28mslice\u001b[39m):\n\u001b[1;32m   4300\u001b[0m     \u001b[38;5;66;03m# This case is separated from the conditional above to avoid\u001b[39;00m\n\u001b[1;32m   4301\u001b[0m     \u001b[38;5;66;03m# pessimization of basic indexing.\u001b[39;00m\n\u001b[1;32m   4302\u001b[0m     \u001b[38;5;28;01mreturn\u001b[39;00m promote(getitem(key))\n",
      "\u001b[0;31mIndexError\u001b[0m: index 0 is out of bounds for axis 0 with size 0"
     ]
    }
   ],
   "source": [
    "df = primeiros_tratamentos(df)\n",
    "df.head()"
   ]
  },
  {
   "cell_type": "code",
   "execution_count": null,
   "metadata": {},
   "outputs": [],
   "source": [
    "df = primeiros_tratamentos(df)\n",
    "df_f = criando_df_feminino(df,ano)\n",
    "df_m = criando_df_masculino(df,ano)\n",
    "df_final = pd.concat([df_final,df_f, df_m])\n",
    "print(f\"File {i}, com shape {df.shape} do ano {ano}, df feminino: {df_f.shape}, df masculino: {df_m.shape} e df final: {df_final.shape}\")\n"
   ]
  },
  {
   "cell_type": "markdown",
   "metadata": {},
   "source": []
  }
 ],
 "metadata": {
  "kernelspec": {
   "display_name": "Python 3",
   "language": "python",
   "name": "python3"
  },
  "language_info": {
   "codemirror_mode": {
    "name": "ipython",
    "version": 3
   },
   "file_extension": ".py",
   "mimetype": "text/x-python",
   "name": "python",
   "nbconvert_exporter": "python",
   "pygments_lexer": "ipython3",
   "version": "3.11.4"
  }
 },
 "nbformat": 4,
 "nbformat_minor": 2
}
