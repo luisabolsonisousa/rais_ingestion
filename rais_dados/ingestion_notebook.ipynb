{
 "cells": [
  {
   "cell_type": "code",
   "execution_count": 106,
   "metadata": {},
   "outputs": [],
   "source": [
    "\n",
    "import requests\n",
    "import os\n",
    "from requests.packages.urllib3.exceptions import InsecureRequestWarning\n",
    "from bs4 import BeautifulSoup\n",
    "import urllib3\n"
   ]
  },
  {
   "cell_type": "code",
   "execution_count": 107,
   "metadata": {},
   "outputs": [],
   "source": [
    "\n",
    "# URL do endpoint\n",
    "url = \"https://bi.mte.gov.br/scripts10/dardoweb.cgi\""
   ]
  },
  {
   "cell_type": "code",
   "execution_count": 108,
   "metadata": {},
   "outputs": [],
   "source": [
    "start = 2006\n",
    "final = 2022\n",
    "folder_name  = \"IBGE_setor\""
   ]
  },
  {
   "cell_type": "code",
   "execution_count": 109,
   "metadata": {},
   "outputs": [
    {
     "data": {
      "text/plain": [
       "\"data_ = {\\n   'NT' : '17484013',\\n    'EA' : 'https%3A%2F%2Fbi.mte.gov.br%2Fbgcaged%2Fcaged_rais_vinculo_id%2F',\\n    'EC' : '0%3B7C725A%3BBAB19E%3BD9D6CA%3BF0EEDB',\\n    'AQ' : 'caged_rais_vinculo_basico_tab.par',\\n    'AC' : '1',\\n    'XC' : '1',\\n    'IN' : '1',\\n    'UM' : '1',\\n    'UU' : '0',\\n    'US' : 'basico',\\n    'DF' : 'https%3A%2F%2Fbi.mte.gov.br%2Fbgcaged%2Fcaged_rais_vinculo_id%2Fcaged_rais_vinculo_basico_tab.php',\\n    'ND' : '',\\n    'CJ' : 'Base+de+Gest%E3o+do+MTE%3A%3ACAGED',\\n    'LI' : 'Capital',\\n    'V1' : 'Ano+inicial',\\n    'V2' : 'Ano+final',\\n    'CO' : 'Sexo+Trabalhador',\\n    'V3' : 'Ano+inicial',\\n    'V4' : 'Ano+final',\\n    'UB' : 'Escolaridade+ap%F3s+2005',\\n    'V9' : 'Ano+inicial',\\n    'V0' : 'Ano+final',\\n    'QU' : '---------N%E3o---------',\\n    'V5' : 'Ano+inicial',\\n    'V6' : 'Ano+final',\\n    'SL' : 'Faixa+Remun+M%E9dia+%28SM%29',\\n    'V7' : 'Ano+inicial',\\n    'V8' : 'Ano+final',\\n    'CN' : '-%3EFrequ%EAncia',\\n    'CE1' : 'Soma',\\n    'TT' : '',\\n    'IU' : '',\\n    'OL' : 'SemOrdem',\\n    'OC' : 'SemOrdem',\\n    'OQ' : 'SemOrdem',\\n    'PL' : '',\\n    'YZAno' : '0',\\n    'YCAno': f'%22{ano_variavel}%22%3ANOME%3B{ano_variavel}',\\n    'YZV%EDnculo+Ativo+31%2F12' : '0',\\n    'YCV%EDnculo+Ativo+31%2F12' : '%221%22%3ANOME%3BSim'\\n}\""
      ]
     },
     "execution_count": 109,
     "metadata": {},
     "output_type": "execute_result"
    }
   ],
   "source": [
    "    \"\"\"data_ = {\n",
    "       'NT' : '17484013',\n",
    "        'EA' : 'https%3A%2F%2Fbi.mte.gov.br%2Fbgcaged%2Fcaged_rais_vinculo_id%2F',\n",
    "        'EC' : '0%3B7C725A%3BBAB19E%3BD9D6CA%3BF0EEDB',\n",
    "        'AQ' : 'caged_rais_vinculo_basico_tab.par',\n",
    "        'AC' : '1',\n",
    "        'XC' : '1',\n",
    "        'IN' : '1',\n",
    "        'UM' : '1',\n",
    "        'UU' : '0',\n",
    "        'US' : 'basico',\n",
    "        'DF' : 'https%3A%2F%2Fbi.mte.gov.br%2Fbgcaged%2Fcaged_rais_vinculo_id%2Fcaged_rais_vinculo_basico_tab.php',\n",
    "        'ND' : '',\n",
    "        'CJ' : 'Base+de+Gest%E3o+do+MTE%3A%3ACAGED',\n",
    "        'LI' : 'Capital',\n",
    "        'V1' : 'Ano+inicial',\n",
    "        'V2' : 'Ano+final',\n",
    "        'CO' : 'Sexo+Trabalhador',\n",
    "        'V3' : 'Ano+inicial',\n",
    "        'V4' : 'Ano+final',\n",
    "        'UB' : 'Escolaridade+ap%F3s+2005',\n",
    "        'V9' : 'Ano+inicial',\n",
    "        'V0' : 'Ano+final',\n",
    "        'QU' : '---------N%E3o---------',\n",
    "        'V5' : 'Ano+inicial',\n",
    "        'V6' : 'Ano+final',\n",
    "        'SL' : 'Faixa+Remun+M%E9dia+%28SM%29',\n",
    "        'V7' : 'Ano+inicial',\n",
    "        'V8' : 'Ano+final',\n",
    "        'CN' : '-%3EFrequ%EAncia',\n",
    "        'CE1' : 'Soma',\n",
    "        'TT' : '',\n",
    "        'IU' : '',\n",
    "        'OL' : 'SemOrdem',\n",
    "        'OC' : 'SemOrdem',\n",
    "        'OQ' : 'SemOrdem',\n",
    "        'PL' : '',\n",
    "        'YZAno' : '0',\n",
    "        'YCAno': f'%22{ano_variavel}%22%3ANOME%3B{ano_variavel}',\n",
    "        'YZV%EDnculo+Ativo+31%2F12' : '0',\n",
    "        'YCV%EDnculo+Ativo+31%2F12' : '%221%22%3ANOME%3BSim'\n",
    "    }\"\"\"\n"
   ]
  },
  {
   "cell_type": "code",
   "execution_count": 110,
   "metadata": {},
   "outputs": [],
   "source": [
    "query_string=f\"NT=66032972&EA=https%3A%2F%2Fbi.mte.gov.br%2Fbgcaged%2Fcaged_rais_vinculo_id%2F&EC=0%3B7C725A%3BBAB19E%3BD9D6CA%3BF0EEDB&AQ=caged_rais_vinculo_basico_tab.par&AC=1&XC=1&IN=1&UM=1&UU=0&US=basico&DF=https%3A%2F%2Fbi.mte.gov.br%2Fbgcaged%2Fcaged_rais_vinculo_id%2Fcaged_rais_vinculo_basico_tab.php&ND=&CJ=Base+de+Gest%E3o+do+MTE%3A%3ACAGED&LI=Capital&V1=Ano+inicial&V2=Ano+final&CO=Sexo+Trabalhador&V3=Ano+inicial&V4=Ano+final&UB=IBGE+Subsetor&V9=Ano+inicial&V0=Ano+final&QU=---------N%E3o---------&V5=Ano+inicial&V6=Ano+final&SL=Faixa+Remun+M%E9dia+%28SM%29&V7=Ano+inicial&V8=Ano+final&CN=-%3EFrequ%EAncia&CE1=Soma&TT=&IU=&OL=SemOrdem&OC=SemOrdem&OQ=SemOrdem&PL=&YZAno=0&YCAno=%22{ano_variavel}%22%3ANOME%3B{ano_variavel}&YZV%EDnculo+Ativo+31%2F12=0&YCV%EDnculo+Ativo+31%2F12=%221%22%3ANOME%3BSim\""
   ]
  },
  {
   "cell_type": "code",
   "execution_count": 111,
   "metadata": {},
   "outputs": [
    {
     "name": "stdout",
     "output_type": "stream",
     "text": [
      "2006\n",
      "Valor de ano_variavel: 2006\n",
      "Download concluído. Arquivo salvo em /Users/bolsolui/Documents/personal/MECAI/git/rais_dados/new_data/IBGE_setor/IBGE_setor_2006.csv\n",
      "2007\n",
      "Valor de ano_variavel: 2007\n",
      "Download concluído. Arquivo salvo em /Users/bolsolui/Documents/personal/MECAI/git/rais_dados/new_data/IBGE_setor/IBGE_setor_2007.csv\n",
      "2008\n",
      "Valor de ano_variavel: 2008\n",
      "Download concluído. Arquivo salvo em /Users/bolsolui/Documents/personal/MECAI/git/rais_dados/new_data/IBGE_setor/IBGE_setor_2008.csv\n",
      "2009\n",
      "Valor de ano_variavel: 2009\n",
      "Download concluído. Arquivo salvo em /Users/bolsolui/Documents/personal/MECAI/git/rais_dados/new_data/IBGE_setor/IBGE_setor_2009.csv\n",
      "2010\n",
      "Valor de ano_variavel: 2010\n",
      "Download concluído. Arquivo salvo em /Users/bolsolui/Documents/personal/MECAI/git/rais_dados/new_data/IBGE_setor/IBGE_setor_2010.csv\n",
      "2011\n",
      "Valor de ano_variavel: 2011\n",
      "Download concluído. Arquivo salvo em /Users/bolsolui/Documents/personal/MECAI/git/rais_dados/new_data/IBGE_setor/IBGE_setor_2011.csv\n",
      "2012\n",
      "Valor de ano_variavel: 2012\n",
      "Download concluído. Arquivo salvo em /Users/bolsolui/Documents/personal/MECAI/git/rais_dados/new_data/IBGE_setor/IBGE_setor_2012.csv\n",
      "2013\n",
      "Valor de ano_variavel: 2013\n",
      "Download concluído. Arquivo salvo em /Users/bolsolui/Documents/personal/MECAI/git/rais_dados/new_data/IBGE_setor/IBGE_setor_2013.csv\n",
      "2014\n",
      "Valor de ano_variavel: 2014\n",
      "Download concluído. Arquivo salvo em /Users/bolsolui/Documents/personal/MECAI/git/rais_dados/new_data/IBGE_setor/IBGE_setor_2014.csv\n",
      "2015\n",
      "Valor de ano_variavel: 2015\n",
      "Download concluído. Arquivo salvo em /Users/bolsolui/Documents/personal/MECAI/git/rais_dados/new_data/IBGE_setor/IBGE_setor_2015.csv\n",
      "2016\n",
      "Valor de ano_variavel: 2016\n",
      "Download concluído. Arquivo salvo em /Users/bolsolui/Documents/personal/MECAI/git/rais_dados/new_data/IBGE_setor/IBGE_setor_2016.csv\n",
      "2017\n",
      "Valor de ano_variavel: 2017\n",
      "Download concluído. Arquivo salvo em /Users/bolsolui/Documents/personal/MECAI/git/rais_dados/new_data/IBGE_setor/IBGE_setor_2017.csv\n",
      "2018\n",
      "Valor de ano_variavel: 2018\n",
      "Download concluído. Arquivo salvo em /Users/bolsolui/Documents/personal/MECAI/git/rais_dados/new_data/IBGE_setor/IBGE_setor_2018.csv\n",
      "2019\n",
      "Valor de ano_variavel: 2019\n",
      "Download concluído. Arquivo salvo em /Users/bolsolui/Documents/personal/MECAI/git/rais_dados/new_data/IBGE_setor/IBGE_setor_2019.csv\n",
      "2020\n",
      "Valor de ano_variavel: 2020\n",
      "Download concluído. Arquivo salvo em /Users/bolsolui/Documents/personal/MECAI/git/rais_dados/new_data/IBGE_setor/IBGE_setor_2020.csv\n",
      "2021\n",
      "Valor de ano_variavel: 2021\n",
      "Download concluído. Arquivo salvo em /Users/bolsolui/Documents/personal/MECAI/git/rais_dados/new_data/IBGE_setor/IBGE_setor_2021.csv\n"
     ]
    }
   ],
   "source": [
    "for i in range(start,final):\n",
    "    ano_variavel=i\n",
    "    print(i)\n",
    "    # Crie o dicionário com a variável\n",
    "\n",
    "    # Envia a solicitação POST\n",
    "    response = requests.post(url, data=query_string,verify=False)\n",
    "\n",
    "    # Resposta do servidor\n",
    "    html = response.text\n",
    "\n",
    "    soup = BeautifulSoup(html, 'html.parser')\n",
    "\n",
    "    link_original = soup.find('frame', {'name': 'tabela'}).get('src')\n",
    "\n",
    "    link_csv = link_original[:-5] + \".csv\"\n",
    "\n",
    "    # Desabilitar os avisos de solicitações inseguras (SSL)\n",
    "    requests.packages.urllib3.disable_warnings(InsecureRequestWarning)\n",
    "    # Link do arquivo CSV\n",
    "    url_csv = link_csv\n",
    "\n",
    "    # Faz o download do arquivo\n",
    "    response_csv = requests.get(url_csv, verify=False)\n",
    "\n",
    "    # Caminho do diretório local onde você deseja salvar o arquivo\n",
    "    diretorio_local = f\"/Users/bolsolui/Documents/personal/MECAI/git/rais_dados/new_data/{folder_name}\"\n",
    "\n",
    "    # Se o diretório não existir, cria-o\n",
    "    if not os.path.exists(diretorio_local):\n",
    "        os.makedirs(diretorio_local)\n",
    "\n",
    "    # Caminho completo do arquivo local\n",
    "    caminho_local = os.path.join(diretorio_local, f\"{folder_name}_{ano_variavel}.csv\")\n",
    "    print(f\"Valor de ano_variavel: {ano_variavel}\")\n",
    "    # ...\n",
    "\n",
    "    # Verifica se o download foi bem-sucedido (código de status 200)\n",
    "    if response_csv.status_code == 200:\n",
    "        # Salva o conteúdo no arquivo local com o nome desejado\n",
    "        with open(caminho_local, 'wb') as file:\n",
    "            file.write(response_csv.content)\n",
    "        print(f\"Download concluído. Arquivo salvo em {caminho_local}\")\n",
    "    else:\n",
    "        print(f\"Erro ao baixar o arquivo. Código de status: {response_csv.status_code}\")\n",
    "        "
   ]
  }
 ],
 "metadata": {
  "kernelspec": {
   "display_name": "Python 3",
   "language": "python",
   "name": "python3"
  },
  "language_info": {
   "codemirror_mode": {
    "name": "ipython",
    "version": 3
   },
   "file_extension": ".py",
   "mimetype": "text/x-python",
   "name": "python",
   "nbconvert_exporter": "python",
   "pygments_lexer": "ipython3",
   "version": "3.11.4"
  }
 },
 "nbformat": 4,
 "nbformat_minor": 2
}
